{
 "cells": [
  {
   "cell_type": "markdown",
   "metadata": {},
   "source": [
    "Creating the Final_dataset.csv file for Open Data Mashup\n",
    "\n",
    "The purpose of this jupyter notebook is to create my final dataset file for my Open Data Mashups project. This file is titled 'Final_dataset.csv.' Preparation and cleaning of intermediate datasets was required before completing this final dataset. Below is a list of all input files used and read into this juypter notebook: \n",
    "\n",
    "- Intermediate_PR_dataset.csv\n",
    "- Unemployment_ChiHealthAtlas.csv\n",
    "- Violent_crime_in_public_spaces_ChiHealthAtlas.csv\n",
    "- Medianincome_ChiHealthAtlas.csv\n",
    "- altnames_csv.csv\n"
   ]
  },
  {
   "cell_type": "markdown",
   "metadata": {},
   "source": [
    "In this notebook we will be creating a dictionary that will be used to store data about Chicago Community Areas. This dictionary will then be used to loop through the press release data compiled as an intermediate dataset. Finally, this script will write out a CSV file as the final dataset used in for Tableau visualization. \n",
    "\n",
    "To begin, first we load our the libraries and packages we will need and initalize a dictionary object. Our dictionary will be called \"n_data\"."
   ]
  },
  {
   "cell_type": "code",
   "execution_count": 2,
   "metadata": {},
   "outputs": [],
   "source": [
    "import csv\n",
    "import json\n",
    "\n",
    "n_data = {} # This creates a dictionary object"
   ]
  },
  {
   "cell_type": "markdown",
   "metadata": {},
   "source": [
    "Next, we open all the files required for this script. These are the intermediate datasets listed above. We will read in 5 intermediate datasets and save each in an object as a list of lists."
   ]
  },
  {
   "cell_type": "code",
   "execution_count": 3,
   "metadata": {},
   "outputs": [],
   "source": [
    "f = open('Intermediate_PR_dataset.csv')\n",
    "pr_text = csv.reader(f, delimiter=',', )\n",
    "next(pr_text) # move past headers\n",
    "next(pr_text) #move past headers\n",
    "pr_list = [r for r in pr_text] #list of lists\n",
    "\n",
    "f2 = open('Unemployment_ChiHealthAtlas.csv')\n",
    "unemployment_data = csv.reader(f2, delimiter=',', )\n",
    "unemployment_list = [r for r in unemployment_data]\n",
    "\n",
    "\n",
    "f3 = open('Violent_crime_in_public_spaces_ChiHealthAtlas.csv')\n",
    "crime_data = csv.reader(f3, delimiter=',', )\n",
    "crime_list = [r for r in crime_data]\n",
    "\n",
    "\n",
    "f4 = open('Medianincome_ChiHealthAtlas.csv')\n",
    "median_income_data = csv.reader(f4, delimiter=',', )\n",
    "median_income_list = [r for r in median_income_data]\n",
    "\n",
    "\n",
    "with open('altnames_csv.csv', 'r') as infile:\n",
    "    csvin = csv.reader(infile)\n",
    "    data = [r for r in csvin] "
   ]
  },
  {
   "cell_type": "markdown",
   "metadata": {},
   "source": [
    "Next, we assign each Chicago Community Area to be a keys of the dictionary by looping through the 'altnames_csv.csv' file. We also create empty values in the dictionary for the values 'appears' and 'pr_id.'"
   ]
  },
  {
   "cell_type": "code",
   "execution_count": 4,
   "metadata": {},
   "outputs": [],
   "source": [
    "for nhood in data:\n",
    "    std_name = nhood[0] #For each list in my list of lists of altnames, grab the first value\n",
    "    n_data[std_name] = {\"names\" : nhood, \"appears\": 0, \"pr_id\": []} #Set the standard neighborhood name as the key and the alt names as the value of names, fills other values with empty data\n"
   ]
  },
  {
   "cell_type": "markdown",
   "metadata": {},
   "source": [
    "Next, we loop through the column in the intermediate dataset 'Intermediate_PR_dataset.csv' that contains the body text of each press release. This script counts the number of appearances of Chicago Community Names within those press releases and saves that count to the value 'appears' as well as the unique identifier for each press release under the value 'pr_id'."
   ]
  },
  {
   "cell_type": "code",
   "execution_count": 5,
   "metadata": {},
   "outputs": [],
   "source": [
    "for pr in pr_list:\n",
    "    pr_id = pr[0]\n",
    "    title = pr[1]\n",
    "    text = pr[2]\n",
    "    date = pr[3]\n",
    "    for nid in n_data.keys(): #Looks up all the std names\n",
    "        allnames = n_data[nid][\"names\"] #Gives a list of the names\n",
    "        for name in allnames:\n",
    "            if name in text:\n",
    "                n_data[nid][\"pr_id\"].append(pr_id)\n",
    "                n_data[nid][\"appears\"] += 1\n",
    "                break"
   ]
  },
  {
   "cell_type": "markdown",
   "metadata": {},
   "source": [
    "Once the above data is stored in the dictionary, what is left to do is store the rest of the data collected about Chicago Community Areas that I have collected previously. This includes all of the Chicago Health Atlas health indicator data like median income, unemployment rate, and crimes committed in public for each Community Area. In the following script I add each of these health indicators to their respective Community Areas by saving each column to an object and inserting them into the value that they belong to in the dictionary. "
   ]
  },
  {
   "cell_type": "code",
   "execution_count": 6,
   "metadata": {},
   "outputs": [],
   "source": [
    "\n",
    "\n",
    "for column in unemployment_list:\n",
    "    std_name = column[0]\n",
    "    geo_id = column[1]\n",
    "    percent = column[2]\n",
    "    if \"-\" in std_name:\n",
    "        std_name = std_name.split(\"-\")[-1]\n",
    "    n_data[std_name][\"geo_id\"]= geo_id\n",
    "    n_data[std_name][\"percent\"]= percent\n",
    "\n",
    "\n",
    "for item in crime_list:\n",
    "    year = item[0]\n",
    "    std_name = item[1]\n",
    "    crime = item[3]\n",
    "    if \"-\" in std_name:\n",
    "        std_name = std_name.split(\"-\")[-1]\n",
    "    n_data[std_name][\"crime\"]= crime\n",
    "\n",
    "for item4 in median_income_list:\n",
    "    std_name = item4[0]\n",
    "    geo_id = item4[1]\n",
    "    median_income = item4[2]\n",
    "    if \"-\" in std_name:\n",
    "        std_name = std_name.split(\"-\")[-1]\n",
    "    n_data[std_name][\"median income\"]= median_income\n",
    "    n_data[std_name][\"geo_id\"]= geo_id"
   ]
  },
  {
   "cell_type": "markdown",
   "metadata": {},
   "source": [
    "In this final cell, I am writing out my dictionary to different data formats. First, I write it out as a JSON file titled 'nhooddata.json' and secondly I write it out as a CSV titled 'Final_dataset.csv.' "
   ]
  },
  {
   "cell_type": "code",
   "execution_count": 7,
   "metadata": {},
   "outputs": [
    {
     "name": "stdout",
     "output_type": "stream",
     "text": [
      "Rogers Park {'names': ['Rogers Park', 'East Rogers Park', 'Loyola'], 'appears': 18, 'pr_id': ['39', '160', '218', '275', '296', '313', '345', '378', '416', '541', '662', '720', '777', '798', '815', '847', '880', '918'], 'geo_id': '1', 'percent': '9.1', 'crime': '120', 'median income': '36114'}\n",
      "West Ridge {'names': ['West Ridge', 'West Rogers Park', 'Peterson Park', 'Arcadia Terrace'], 'appears': 4, 'pr_id': ['309', '313', '811', '815'], 'geo_id': '2', 'percent': '9.2', 'crime': '139', 'median income': '53301'}\n",
      "Uptown {'names': ['Uptown', 'Buena Park', 'Argyle Street', 'Margate Park', 'Sheridan Park'], 'appears': 8, 'pr_id': ['9', '105', '275', '334', '511', '607', '777', '836'], 'geo_id': '3', 'percent': '8', 'crime': '155', 'median income': '47651'}\n",
      "Lincoln Square {'names': ['Lincoln Square', 'Ravenswood', 'Ravenswood Gardens', 'Rockwell Crossing'], 'appears': 4, 'pr_id': ['221', '338', '723', '840'], 'geo_id': '4', 'percent': '6', 'crime': '69', 'median income': '70525'}\n",
      "North Center {'names': ['North Center', 'Horner Park', 'Roscoe Village'], 'appears': 4, 'pr_id': ['142', '250', '644', '752'], 'geo_id': '5', 'percent': '4', 'crime': '37', 'median income': '98246'}\n",
      "Lakeview {'names': ['Lakeview', 'Boystown', 'Lake View East', 'Graceland West', 'South East Ravenswood', 'Wrigleyville'], 'appears': 0, 'pr_id': [], 'geo_id': '6', 'percent': '3.3', 'crime': '126', 'median income': '95573'}\n",
      "Lincoln Park {'names': ['Lincoln Park', 'Old Town Triangle', 'Park West', 'Ranch Triangle', 'Sheffield Neighbors', 'Wrightwood Neighbors'], 'appears': 6, 'pr_id': ['108', '179', '257', '610', '681', '759'], 'geo_id': '7', 'percent': '3.5', 'crime': '78', 'median income': '98427'}\n",
      "Near North Side {'names': ['Near North Side', 'Cabrini–Green', 'The Gold Coast', 'Goose Island', 'Magnificent Mile', 'Old Town', 'River North', 'River West', 'Streeterville'], 'appears': 20, 'pr_id': ['58', '133', '140', '221', '242', '265', '275', '319', '336', '358', '560', '635', '642', '723', '744', '767', '777', '821', '838', '860'], 'geo_id': '8', 'percent': '5.1', 'crime': '154', 'median income': '85239'}\n",
      "Edison Park {'names': ['Edison Park', 'edison park'], 'appears': 0, 'pr_id': [], 'geo_id': '9', 'percent': '4.1', 'crime': '1', 'median income': '85450'}\n",
      "Norwood Park {'names': ['Norwood Park', 'Big Oaks', 'Old Norwood Park', 'Oriole Park', 'Union Ridge'], 'appears': 0, 'pr_id': [], 'geo_id': '10', 'percent': '6', 'crime': '14', 'median income': '72531'}\n",
      "Jefferson Park {'names': ['Jefferson Park', 'Gladstone Park'], 'appears': 0, 'pr_id': [], 'geo_id': '11', 'percent': '7.4', 'crime': '17', 'median income': '66792'}\n",
      "Forest Glen {'names': ['Forest Glen', 'Edgebrook', 'Old Edgebrook', 'South Edgebrook', 'Sauganash', 'Wildwood'], 'appears': 8, 'pr_id': ['93', '94', '128', '221', '595', '596', '630', '723'], 'geo_id': '12', 'percent': '5.1', 'crime': '15', 'median income': '108520'}\n",
      "North Park {'names': ['North Park', 'Brynford Park', 'Hollywood Park', \"River's Edge\", 'Sauganash Woods'], 'appears': 10, 'pr_id': ['9', '160', '197', '296', '429', '511', '662', '699', '798', '931'], 'geo_id': '13', 'percent': '7.7', 'crime': '43', 'median income': '71411'}\n",
      "Albany Park {'names': ['Albany Park', 'Mayfair', 'North Mayfair', 'Ravenswood Manor'], 'appears': 8, 'pr_id': ['26', '142', '261', '389', '528', '644', '763', '891'], 'geo_id': '14', 'percent': '7.9', 'crime': '125', 'median income': '54254'}\n",
      "Portage Park {'names': ['Portage Park', 'Belmont Central', 'Władysławowo', 'Wladyslawowo', 'Six Corners'], 'appears': 0, 'pr_id': [], 'geo_id': '15', 'percent': '7.6', 'crime': '97', 'median income': '59571'}\n",
      "Irving Park {'names': ['Irving Park', 'Avondale Gardens', 'Independence Park', 'Kilbourn Park', 'Little Cassubia', 'Old Irving Park', 'West Walker', 'The Villa'], 'appears': 4, 'pr_id': ['142', '309', '644', '811'], 'geo_id': '16', 'percent': '6', 'crime': '123', 'median income': '61553'}\n",
      "Dunning {'names': ['Dunning', 'Belmont Heights', 'Belmont Terrace', 'Irving Woods', 'Schorsch Village'], 'appears': 0, 'pr_id': [], 'geo_id': '17', 'percent': '5.6', 'crime': '43', 'median income': '60627'}\n",
      "Montclare {'names': ['Montclare'], 'appears': 2, 'pr_id': ['199', '701'], 'geo_id': '18', 'percent': '4.8', 'crime': '17', 'median income': '119758'}\n",
      "Belmont Cragin {'names': ['Belmont Cragin', 'Belmont Central', 'Hanson Park', 'Brickyard'], 'appears': 4, 'pr_id': ['275', '304', '777', '806'], 'geo_id': '19', 'percent': '11', 'crime': '213', 'median income': '55474'}\n",
      "Hermosa {'names': ['Hermosa', 'Kelvyn Park'], 'appears': 4, 'pr_id': ['27', '345', '529', '847'], 'geo_id': '20', 'percent': '7.9', 'crime': '87', 'median income': '62666'}\n",
      "Avondale {'names': ['Avondale', \"Chicago's Polish Village\", 'Kosciuszko Park'], 'appears': 2, 'pr_id': ['142', '644'], 'geo_id': '21', 'percent': '6.4', 'crime': '94', 'median income': '60737'}\n",
      "Logan Square {'names': ['Logan Square', 'Bucktown', 'Palmer Square', 'Kosciuszko Park'], 'appears': 6, 'pr_id': ['108', '221', '275', '610', '723', '777'], 'geo_id': '22', 'percent': '5.2', 'crime': '212', 'median income': '72278'}\n",
      "Humboldt Park {'names': ['Humboldt Park'], 'appears': 24, 'pr_id': ['42', '101', '144', '172', '233', '241', '257', '266', '269', '275', '306', '370', '544', '603', '646', '674', '735', '743', '759', '768', '771', '777', '808', '872'], 'geo_id': '23', 'percent': '12', 'crime': '555', 'median income': '46772'}\n",
      "West Town {'names': ['West Town', 'East Village', 'Noble Square', 'Polish Downtown', 'Pulaski Park', 'Smith Park', 'Ukrainian Village', 'Wicker Park'], 'appears': 10, 'pr_id': ['27', '133', '242', '338', '358', '529', '635', '744', '840', '860'], 'geo_id': '24', 'percent': '5.5', 'crime': '420', 'median income': '78218'}\n",
      "Austin {'names': ['Austin', 'Galewood', 'The Island'], 'appears': 28, 'pr_id': ['9', '27', '101', '163', '178', '188', '190', '241', '251', '261', '269', '275', '368', '370', '511', '529', '603', '665', '680', '690', '692', '743', '753', '763', '771', '777', '870', '872'], 'geo_id': '25', 'percent': '16.8', 'crime': '1323', 'median income': '48249'}\n",
      "West Garfield Park {'names': ['West Garfield Park'], 'appears': 14, 'pr_id': ['133', '191', '242', '251', '270', '273', '275', '635', '693', '744', '753', '772', '775', '777'], 'geo_id': '26', 'percent': '18.8', 'crime': '444', 'median income': '23534'}\n",
      "East Garfield Park {'names': ['East Garfield Park'], 'appears': 10, 'pr_id': ['9', '103', '218', '243', '262', '511', '605', '720', '745', '764'], 'geo_id': '27', 'percent': '6.6', 'crime': '439', 'median income': '59703'}\n",
      "Near West Side {'names': ['Near West Side', 'Greektown', 'Little Italy', 'Tri-Taylor'], 'appears': 16, 'pr_id': ['133', '242', '275', '298', '309', '358', '390', '484', '635', '744', '777', '800', '811', '860', '892', '986'], 'geo_id': '28', 'percent': '6.4', 'crime': '331', 'median income': '71115'}\n",
      "North Lawndale {'names': ['North Lawndale', 'Lawndale', 'Homan Square', 'Douglas Park'], 'appears': 24, 'pr_id': ['9', '81', '101', '144', '190', '199', '231', '251', '275', '281', '297', '306', '511', '583', '603', '646', '692', '701', '733', '753', '777', '783', '799', '808'], 'geo_id': '29', 'percent': '8', 'crime': '612', 'median income': '61000'}\n",
      "South Lawndale {'names': ['South Lawndale', 'Little Village'], 'appears': 16, 'pr_id': ['71', '93', '94', '128', '241', '261', '281', '331', '573', '595', '596', '630', '743', '763', '783', '833'], 'geo_id': '30', 'percent': '8.6', 'crime': '368', 'median income': '45932'}\n",
      "Lower West Side {'names': ['Lower West Side', 'Heart of Chicago', 'Heart of Italy', 'Pilsen', 'East Pilsen'], 'appears': 12, 'pr_id': ['71', '221', '257', '275', '298', '330', '573', '723', '759', '777', '800', '832'], 'geo_id': '31', 'percent': '7.4', 'crime': '178', 'median income': '59936'}\n",
      "Loop {'names': ['Loop', 'Near East Side', 'South Loop', 'West Loop Gate'], 'appears': 36, 'pr_id': ['93', '94', '108', '126', '128', '145', '148', '149', '187', '221', '262', '265', '310', '315', '352', '369', '430', '489', '595', '596', '610', '628', '630', '647', '650', '651', '689', '723', '764', '767', '812', '817', '854', '871', '932', '991'], 'geo_id': '32', 'percent': '5.3', 'crime': '107', 'median income': '107985'}\n",
      "Near South Side {'names': ['Near South Side', 'Dearborn Park', \"Printer's Row\", 'South Loop', 'Prairie Avenue Historic District'], 'appears': 8, 'pr_id': ['93', '94', '128', '221', '595', '596', '630', '723'], 'geo_id': '33', 'percent': '3.9', 'crime': '47', 'median income': '77718'}\n",
      "Armour Square {'names': ['Armour Square', 'Chinatown', 'Bridgeport', 'Wentworth Gardens'], 'appears': 10, 'pr_id': ['9', '162', '169', '314', '377', '511', '664', '671', '816', '879'], 'geo_id': '34', 'percent': '10.2', 'crime': '57', 'median income': '45680'}\n",
      "Douglas {'names': ['Douglas', 'Groveland Park', 'Lake Meadows', 'the Gap', 'The Gap', 'Prairie Shores', 'South Commons'], 'appears': 2, 'pr_id': ['231', '733'], 'geo_id': '35', 'percent': '10.6', 'crime': '123', 'median income': '49096'}\n",
      "Oakland {'names': ['Oakland'], 'appears': 4, 'pr_id': ['178', '368', '680', '870'], 'geo_id': '36', 'percent': '8.7', 'crime': '30', 'median income': '63630'}\n",
      "Fuller Park {'names': ['Fuller Park'], 'appears': 0, 'pr_id': [], 'geo_id': '37', 'percent': '7.3', 'crime': '63', 'median income': '60475'}\n",
      "Grand Boulevard {'names': ['Grand Boulevard', 'Bronzeville'], 'appears': 22, 'pr_id': ['15', '101', '145', '267', '269', '275', '312', '314', '323', '355', '491', '517', '603', '647', '769', '771', '777', '814', '816', '825', '857', '993'], 'geo_id': '38', 'percent': '8.2', 'crime': '232', 'median income': '35906'}\n",
      "Kenwood {'names': ['Kenwood', 'South Kenwood'], 'appears': 4, 'pr_id': ['220', '275', '722', '777'], 'geo_id': '39', 'percent': '12.9', 'crime': '79', 'median income': '46826'}\n",
      "Washington Park {'names': ['Washington Park'], 'appears': 10, 'pr_id': ['184', '257', '275', '398', '496', '686', '759', '777', '900', '998'], 'geo_id': '40', 'percent': '16.9', 'crime': '185', 'median income': '48500'}\n",
      "Hyde Park {'names': ['Hyde Park', 'East Hyde Park'], 'appears': 12, 'pr_id': ['162', '170', '171', '257', '275', '365', '664', '672', '673', '759', '777', '867'], 'geo_id': '41', 'percent': '5.3', 'crime': '63', 'median income': '53643'}\n",
      "Woodlawn {'names': ['Woodlawn', 'West Woodlawn'], 'appears': 10, 'pr_id': ['79', '275', '355', '365', '367', '581', '777', '857', '867', '869'], 'geo_id': '42', 'percent': '13.3', 'crime': '226', 'median income': '41400'}\n",
      "South Shore {'names': ['South Shore', 'Jackson Park Highlands'], 'appears': 6, 'pr_id': ['101', '269', '275', '603', '771', '777'], 'geo_id': '43', 'percent': '19', 'crime': '461', 'median income': '33240'}\n",
      "Chatham {'names': ['Chatham', 'East Chatham', 'West Chatham', 'West Chesterfield'], 'appears': 14, 'pr_id': ['54', '81', '101', '144', '249', '269', '306', '556', '583', '603', '646', '751', '771', '808'], 'geo_id': '44', 'percent': '15.8', 'crime': '360', 'median income': '40573'}\n",
      "Avalon Park {'names': ['Avalon Park', 'Marynook', 'Stony Island Park'], 'appears': 0, 'pr_id': [], 'geo_id': '45', 'percent': '15.5', 'crime': '86', 'median income': '63970'}\n",
      "South Chicago {'names': ['South Chicago', 'The Bush'], 'appears': 18, 'pr_id': ['9', '58', '159', '238', '244', '251', '261', '275', '313', '511', '560', '661', '740', '746', '753', '763', '777', '815'], 'geo_id': '46', 'percent': '19.7', 'crime': '230', 'median income': '40368'}\n",
      "Burnside {'names': ['Burnside'], 'appears': 2, 'pr_id': ['9', '511'], 'geo_id': '47', 'percent': '18.4', 'crime': '21', 'median income': '23684'}\n",
      "Calumet Heights {'names': ['Calumet Heights', 'Pill Hill'], 'appears': 0, 'pr_id': [], 'geo_id': '48', 'percent': '14.4', 'crime': '86', 'median income': '46581'}\n",
      "Roseland {'names': ['Roseland', 'Fernwood', 'Rosemoor'], 'appears': 6, 'pr_id': ['9', '275', '299', '511', '777', '801'], 'geo_id': '49', 'percent': '24', 'crime': '491', 'median income': '44362'}\n",
      "Pullman {'names': ['Pullman', 'Cottage Grove Heights', 'London Towne'], 'appears': 18, 'pr_id': ['101', '218', '221', '261', '269', '299', '314', '338', '343', '603', '720', '723', '763', '771', '801', '816', '840', '845'], 'geo_id': '50', 'percent': '20.3', 'crime': '50', 'median income': '36777'}\n",
      "South Deering {'names': ['South Deering', 'Jeffrey Manor', 'Trumbull Park'], 'appears': 2, 'pr_id': ['378', '880'], 'geo_id': '51', 'percent': '20', 'crime': '103', 'median income': '44388'}\n",
      "East Side {'names': ['East Side'], 'appears': 0, 'pr_id': [], 'geo_id': '52', 'percent': '18.3', 'crime': '41', 'median income': '44079'}\n",
      "West Pullman {'names': ['West Pullman'], 'appears': 6, 'pr_id': ['261', '269', '343', '763', '771', '845'], 'geo_id': '53', 'percent': '22.8', 'crime': '271', 'median income': '37272'}\n",
      "Riverdale {'names': ['Riverdale', 'Altgeld Gardens', 'Eden Green', 'Golden Gate'], 'appears': 0, 'pr_id': [], 'geo_id': '54', 'percent': '36.9', 'crime': '67', 'median income': '14415'}\n",
      "Hegewisch {'names': ['Hegewisch'], 'appears': 0, 'pr_id': [], 'geo_id': '55', 'percent': '6.3', 'crime': '8', 'median income': '61772'}\n",
      "Garfield Ridge {'names': ['Garfield Ridge', 'LeClaire Courts', 'Sleepy Hollow', 'Vittum Park'], 'appears': 0, 'pr_id': [], 'geo_id': '56', 'percent': '8.7', 'crime': '59', 'median income': '65725'}\n",
      "Archer Heights {'names': ['Archer Heights'], 'appears': 0, 'pr_id': [], 'geo_id': '57', 'percent': '9.9', 'crime': '46', 'median income': '47138'}\n",
      "Brighton Park {'names': ['Brighton Park'], 'appears': 4, 'pr_id': ['9', '275', '511', '777'], 'geo_id': '58', 'percent': '11.8', 'crime': '211', 'median income': '39887'}\n",
      "McKinley Park {'names': ['McKinley Park'], 'appears': 2, 'pr_id': ['241', '743'], 'geo_id': '59', 'percent': '7.4', 'crime': '50', 'median income': '58154'}\n",
      "Bridgeport {'names': ['Bridgeport'], 'appears': 0, 'pr_id': [], 'geo_id': '60', 'percent': '8.2', 'crime': '73', 'median income': '55840'}\n",
      "New City {'names': ['New City', 'Back of the Yards', 'Canaryville'], 'appears': 6, 'pr_id': ['101', '251', '261', '603', '753', '763'], 'geo_id': '61', 'percent': '16.6', 'crime': '487', 'median income': '34921'}\n",
      "West Elsdon {'names': ['West Elsdon'], 'appears': 0, 'pr_id': [], 'geo_id': '62', 'percent': '12.5', 'crime': '55', 'median income': '49829'}\n",
      "Gage Park {'names': ['Gage Park'], 'appears': 8, 'pr_id': ['156', '236', '239', '275', '658', '738', '741', '777'], 'geo_id': '63', 'percent': '12.7', 'crime': '173', 'median income': '41701'}\n",
      "Clearing {'names': ['Clearing', 'Chrysler Village'], 'appears': 2, 'pr_id': ['296', '798'], 'geo_id': '64', 'percent': '10.1', 'crime': '16', 'median income': '60373'}\n",
      "West Lawn {'names': ['West Lawn', 'Ford City'], 'appears': 2, 'pr_id': ['241', '743'], 'geo_id': '65', 'percent': '13.4', 'crime': '97', 'median income': '50884'}\n",
      "Chicago Lawn {'names': ['Chicago Lawn', 'Lithuanian Plaza', 'Marquette Park'], 'appears': 4, 'pr_id': ['92', '275', '594', '777'], 'geo_id': '66', 'percent': '19.9', 'crime': '324', 'median income': '39275'}\n",
      "West Englewood {'names': ['West Englewood'], 'appears': 6, 'pr_id': ['251', '261', '370', '753', '763', '872'], 'geo_id': '67', 'percent': '29.6', 'crime': '589', 'median income': '32445'}\n",
      "Englewood {'names': ['Englewood'], 'appears': 42, 'pr_id': ['9', '27', '101', '109', '133', '145', '156', '172', '242', '251', '261', '269', '275', '319', '323', '334', '355', '358', '370', '440', '477', '511', '529', '603', '611', '635', '647', '658', '674', '744', '753', '763', '771', '777', '821', '825', '836', '857', '860', '872', '942', '979'], 'geo_id': '68', 'percent': '22.5', 'crime': '474', 'median income': '41703'}\n",
      "Greater Grand Crossing {'names': ['Greater Grand Crossing'], 'appears': 0, 'pr_id': [], 'geo_id': '69', 'percent': '16.5', 'crime': '483', 'median income': '40440'}\n",
      "Ashburn {'names': ['Ashburn', 'Beverly View', 'Mary Crest', 'Parkview', 'Scottsdale', 'Wrightwood'], 'appears': 2, 'pr_id': ['9', '511'], 'geo_id': '70', 'percent': '12.8', 'crime': '157', 'median income': '67063'}\n",
      "Auburn Gresham {'names': ['Auburn Gresham'], 'appears': 6, 'pr_id': ['9', '249', '275', '511', '751', '777'], 'geo_id': '71', 'percent': '23.6', 'crime': '560', 'median income': '29285'}\n",
      "Beverly {'names': ['Beverly'], 'appears': 8, 'pr_id': ['162', '170', '257', '345', '664', '672', '759', '847'], 'geo_id': '72', 'percent': '6.6', 'crime': '19', 'median income': '93037'}\n",
      "Washington Heights {'names': ['Washington Heights', 'Brainerd', 'Longwood Manor', 'Princeton Park'], 'appears': 0, 'pr_id': [], 'geo_id': '73', 'percent': '18.6', 'crime': '232', 'median income': '46848'}\n",
      "Mount Greenwood {'names': ['Mount Greenwood', 'Mount Greenwood Heights', \"Talley's Corner\"], 'appears': 0, 'pr_id': [], 'geo_id': '74', 'percent': '4.4', 'crime': '9', 'median income': '91209'}\n",
      "Morgan Park {'names': ['Morgan Park', 'Beverly Woods', 'Kennedy Park', 'West Morgan Park'], 'appears': 2, 'pr_id': ['121', '623'], 'geo_id': '75', 'percent': '10.4', 'crime': '86', 'median income': '62190'}\n",
      "O'Hare {'names': [\"O'Hare\", 'Schorsch Forest View'], 'appears': 10, 'pr_id': ['36', '131', '146', '209', '476', '538', '633', '648', '711', '978'], 'geo_id': '76', 'percent': '7.8', 'crime': '5', 'median income': '58360'}\n",
      "Edgewater {'names': ['Edgewater', 'Andersonville', 'Edgewater Glen', 'Edgewater Beach', 'Magnolia Glen', 'Lakewood', 'Balmoral'], 'appears': 0, 'pr_id': [], 'geo_id': '77', 'percent': '6.9', 'crime': '70', 'median income': '47466'}\n"
     ]
    }
   ],
   "source": [
    "for nid, vals in n_data.items():\n",
    "    print(nid, vals)\n",
    "    # print(nid, vals['appears'], vals['pr_id'], vals['unemployment'])\n",
    "\n",
    "with open('nhooddata.json', 'w') as fout:\n",
    "    json.dump(n_data, fout, indent = 4)\n",
    "\n",
    "#Aileen attempting to write this JSON into a CSV\n",
    "#n_data_parsed = json.loads()\n",
    "\n",
    "\n",
    "outputfile = open('Final_dataset.csv', 'w')\n",
    "csvwriter = csv.writer(outputfile)\n",
    "\n",
    "columnTitleRow = \"std_name, geo_id, percent_unemployment, crime, median_income, appears, pr_id \\n\"\n",
    "outputfile.write(columnTitleRow)\n",
    "\n",
    "for key in n_data.keys():\n",
    "    std_name = key\n",
    "    geo_id = str(n_data[key][\"geo_id\"])\n",
    "    percent = str(n_data[key][\"percent\"])\n",
    "    crime = str(n_data[key][\"crime\"])\n",
    "    median_income = str(n_data[key][\"median income\"])\n",
    "    appears = str(n_data[key][\"appears\"])\n",
    "    pr_id = '\"' + str(n_data[key][\"pr_id\"]) + '\"'\n",
    "    row = std_name + \",\" + geo_id + \",\" + percent + \",\" + crime + \",\" + median_income + \",\" + appears + \",\" + pr_id + \",\" + \"\\n\"\n",
    "    outputfile.write(row)\n",
    "\n",
    "outputfile.close()\n",
    "\n",
    "\n"
   ]
  }
 ],
 "metadata": {
  "kernelspec": {
   "display_name": "Python 3",
   "language": "python",
   "name": "python3"
  }
 },
 "nbformat": 4,
 "nbformat_minor": 2
}
